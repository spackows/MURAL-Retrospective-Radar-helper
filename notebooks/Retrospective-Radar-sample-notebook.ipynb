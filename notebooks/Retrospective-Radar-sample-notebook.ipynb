{
 "cells": [
  {
   "cell_type": "markdown",
   "metadata": {},
   "source": [
    "\n",
    "# Retrospective Radar\n",
    "\n",
    "This sample notebook demonstrates how to use the MURAL API to automatically process team reflections in a mural created from the Retrospective Radar template:\n",
    "\n",
    "<img src=\"https://raw.githubusercontent.com/spackows/MURAL-Retrospective-Radar-helper/main/images/create-from-template.png\" alt=\"Creating a mural from the Retrospective Radar template\" width=\"600px\" />\n",
    "\n",
    "Read about this template and how to use it to get more value from your team reflection activities: [The Retrospective Radar: A Unique Visualization Technique for Agile Teams](https://medium.com/the-agile-marketing-experience/the-retrospective-radar-a-unique-visualization-technique-for-agile-teams-ec6e6227cec6)\n",
    "\n",
    "To use this notebook:\n",
    "1. Create a mural from the retrospective radar template\n",
    "2. Work through the process until you have sticky notes in the radar\n",
    "3. Then, run the sample code below\n",
    "\n",
    "<img src=\"https://raw.githubusercontent.com/spackows/MURAL-Retrospective-Radar-helper/main/images/sample-radar.png\" alt=\"Retrospective radar with sticky notes\" width=\"600px\" />"
   ]
  },
  {
   "cell_type": "code",
   "execution_count": null,
   "metadata": {},
   "outputs": [],
   "source": []
  },
  {
   "cell_type": "code",
   "execution_count": null,
   "metadata": {},
   "outputs": [],
   "source": []
  },
  {
   "cell_type": "markdown",
   "metadata": {},
   "source": [
    "# Step 1: Collect the mural ID\n",
    "\n",
    "You can find the mural ID in the url of a mural.\n",
    "\n",
    "Mural urls look something like this:\n",
    "\n",
    "`https://app.mural.co/t/<workspace>/m/<workspace>/<id>/...`\n",
    "\n",
    "What you need to pass to the MURAL API is just after the `/m/`: the `<workspace>` and the `<id>`. And you need to join them with a period.\n",
    "\n",
    "For example, if you have a mural with this url:\n",
    "\n",
    "https://app.mural.co/t/teamideas1234/m/teamideas1234/1234567890123/...\n",
    "\n",
    "Then, the mural ID is: `teamideas1234.1234567890123`"
   ]
  },
  {
   "cell_type": "code",
   "execution_count": 1,
   "metadata": {},
   "outputs": [],
   "source": [
    "g_mural_id = \"\""
   ]
  },
  {
   "cell_type": "code",
   "execution_count": null,
   "metadata": {},
   "outputs": [],
   "source": []
  },
  {
   "cell_type": "code",
   "execution_count": null,
   "metadata": {},
   "outputs": [],
   "source": []
  },
  {
   "cell_type": "markdown",
   "metadata": {},
   "source": [
    "# Step 2: Collect your OAuth token"
   ]
  },
  {
   "cell_type": "code",
   "execution_count": 2,
   "metadata": {},
   "outputs": [],
   "source": [
    "g_auth_token = \"\""
   ]
  },
  {
   "cell_type": "code",
   "execution_count": null,
   "metadata": {},
   "outputs": [],
   "source": []
  },
  {
   "cell_type": "code",
   "execution_count": null,
   "metadata": {},
   "outputs": [],
   "source": []
  },
  {
   "cell_type": "markdown",
   "metadata": {},
   "source": [
    "# Step 3: Import Retrospective Radar helper functions\n",
    "\n",
    "Some Python functions for reading from a retrospective radar mural are available here: [MURAL-Retrospective-Radar-helper](https://github.com/spackows/MURAL-Retrospective-Radar-helper)"
   ]
  },
  {
   "cell_type": "code",
   "execution_count": 3,
   "metadata": {},
   "outputs": [],
   "source": [
    "from requests import get\n",
    "helper_file_name = \"retrospective-radar-helper.py\"\n",
    "url = \"https://raw.githubusercontent.com/spackows/MURAL-Retrospective-Radar-helper/main/\" + helper_file_name\n",
    "with open( helper_file_name, \"wb\") as file:\n",
    "    response = get( url )\n",
    "    file.write( response.content )"
   ]
  },
  {
   "cell_type": "code",
   "execution_count": 4,
   "metadata": {},
   "outputs": [],
   "source": [
    "import importlib  \n",
    "retro = importlib.import_module( \"retrospective-radar-helper\" )"
   ]
  },
  {
   "cell_type": "code",
   "execution_count": null,
   "metadata": {},
   "outputs": [],
   "source": []
  },
  {
   "cell_type": "code",
   "execution_count": null,
   "metadata": {},
   "outputs": [],
   "source": []
  },
  {
   "cell_type": "markdown",
   "metadata": {},
   "source": [
    "# Step 4: Grab content from sticky notes in the radar\n",
    "\n",
    "Use the helper functions to find sticky notes in the radar and identify:\n",
    "- Which circle they are in ( eg. \"Control\", \"Influence\", or \"Concern\" )\n",
    "- Which section of the starfish they are in ( eg. \"More of\", \"Start doing\", \"Stop doing\", \"Less of\", and \"Keep doing\" )"
   ]
  },
  {
   "cell_type": "code",
   "execution_count": 5,
   "metadata": {},
   "outputs": [],
   "source": [
    "radar_circles = retro.getRadarCircles( g_mural_id, g_auth_token )\n",
    "#retro.printRadarCircles( radar_circles )"
   ]
  },
  {
   "cell_type": "code",
   "execution_count": 6,
   "metadata": {},
   "outputs": [],
   "source": [
    "radar_lines = retro.getRadarLines( g_mural_id, g_auth_token, radar_circles )\n",
    "#retro.printRadarLines( radar_lines )"
   ]
  },
  {
   "cell_type": "code",
   "execution_count": 7,
   "metadata": {},
   "outputs": [],
   "source": [
    "radar_stickies = retro.getRadarStickies( g_mural_id, g_auth_token, radar_circles, radar_lines )"
   ]
  },
  {
   "cell_type": "code",
   "execution_count": 8,
   "metadata": {},
   "outputs": [
    {
     "data": {
      "text/html": [
       "<div>\n",
       "<style scoped>\n",
       "    .dataframe tbody tr th:only-of-type {\n",
       "        vertical-align: middle;\n",
       "    }\n",
       "\n",
       "    .dataframe tbody tr th {\n",
       "        vertical-align: top;\n",
       "    }\n",
       "\n",
       "    .dataframe thead th {\n",
       "        text-align: right;\n",
       "    }\n",
       "</style>\n",
       "<table border=\"1\" class=\"dataframe\">\n",
       "  <thead>\n",
       "    <tr style=\"text-align: right;\">\n",
       "      <th></th>\n",
       "      <th>STICKY ID</th>\n",
       "      <th>STARFISH INDEX</th>\n",
       "      <th>STARFISH ZONE</th>\n",
       "      <th>CIRCLE INDEX</th>\n",
       "      <th>CIRCLE OF CONTROL</th>\n",
       "      <th>TEXT</th>\n",
       "    </tr>\n",
       "  </thead>\n",
       "  <tbody>\n",
       "    <tr>\n",
       "      <th>6</th>\n",
       "      <td>0-1653964887088</td>\n",
       "      <td>0</td>\n",
       "      <td>MORE OF</td>\n",
       "      <td>0</td>\n",
       "      <td>CONTROL</td>\n",
       "      <td>Short, searchable recorded demos of in-progress work makes it easier to stay up to speed</td>\n",
       "    </tr>\n",
       "    <tr>\n",
       "      <th>4</th>\n",
       "      <td>0-1653964568998</td>\n",
       "      <td>3</td>\n",
       "      <td>LESS OF</td>\n",
       "      <td>0</td>\n",
       "      <td>CONTROL</td>\n",
       "      <td>Too many debugging comments in GitHub issues - Can we summarize instead?</td>\n",
       "    </tr>\n",
       "    <tr>\n",
       "      <th>2</th>\n",
       "      <td>0-1653964290301</td>\n",
       "      <td>4</td>\n",
       "      <td>KEEP DOING</td>\n",
       "      <td>0</td>\n",
       "      <td>CONTROL</td>\n",
       "      <td>Cross-timzone daily scrum updates in the Trello board is working well</td>\n",
       "    </tr>\n",
       "    <tr>\n",
       "      <th>1</th>\n",
       "      <td>0-1653964232646</td>\n",
       "      <td>1</td>\n",
       "      <td>START DOING</td>\n",
       "      <td>1</td>\n",
       "      <td>INFLUENCE</td>\n",
       "      <td>Please post meeting Agendas a day in advance</td>\n",
       "    </tr>\n",
       "    <tr>\n",
       "      <th>3</th>\n",
       "      <td>0-1653964404940</td>\n",
       "      <td>2</td>\n",
       "      <td>STOP DOING</td>\n",
       "      <td>1</td>\n",
       "      <td>INFLUENCE</td>\n",
       "      <td>Voting on issues has not worked out, let's stop doing that</td>\n",
       "    </tr>\n",
       "    <tr>\n",
       "      <th>0</th>\n",
       "      <td>0-1653964107023</td>\n",
       "      <td>0</td>\n",
       "      <td>MORE OF</td>\n",
       "      <td>2</td>\n",
       "      <td>CONCERN</td>\n",
       "      <td>Cross-team highlights in the org Slack channel are useful.. please spread to more teams</td>\n",
       "    </tr>\n",
       "    <tr>\n",
       "      <th>5</th>\n",
       "      <td>0-1653964691348</td>\n",
       "      <td>3</td>\n",
       "      <td>LESS OF</td>\n",
       "      <td>2</td>\n",
       "      <td>CONCERN</td>\n",
       "      <td>Steam-of-consciousness strategy updates seem contradictory and confusing</td>\n",
       "    </tr>\n",
       "  </tbody>\n",
       "</table>\n",
       "</div>"
      ],
      "text/plain": [
       "         STICKY ID  STARFISH INDEX STARFISH ZONE  CIRCLE INDEX  \\\n",
       "6  0-1653964887088               0   MORE OF                 0   \n",
       "4  0-1653964568998               3   LESS OF                 0   \n",
       "2  0-1653964290301               4   KEEP DOING              0   \n",
       "1  0-1653964232646               1   START DOING             1   \n",
       "3  0-1653964404940               2   STOP DOING              1   \n",
       "0  0-1653964107023               0   MORE OF                 2   \n",
       "5  0-1653964691348               3   LESS OF                 2   \n",
       "\n",
       "  CIRCLE OF CONTROL  \\\n",
       "6         CONTROL     \n",
       "4         CONTROL     \n",
       "2         CONTROL     \n",
       "1         INFLUENCE   \n",
       "3         INFLUENCE   \n",
       "0         CONCERN     \n",
       "5         CONCERN     \n",
       "\n",
       "                                                                                       TEXT  \n",
       "6  Short, searchable recorded demos of in-progress work makes it easier to stay up to speed  \n",
       "4                  Too many debugging comments in GitHub issues - Can we summarize instead?  \n",
       "2                     Cross-timzone daily scrum updates in the Trello board is working well  \n",
       "1                                              Please post meeting Agendas a day in advance  \n",
       "3                                Voting on issues has not worked out, let's stop doing that  \n",
       "0   Cross-team highlights in the org Slack channel are useful.. please spread to more teams  \n",
       "5                  Steam-of-consciousness strategy updates seem contradictory and confusing  "
      ]
     },
     "metadata": {},
     "output_type": "display_data"
    }
   ],
   "source": [
    "df = retro.resultsDataframe( radar_stickies )\n",
    "retro.printRadarDf( df )"
   ]
  },
  {
   "cell_type": "code",
   "execution_count": null,
   "metadata": {},
   "outputs": [],
   "source": []
  },
  {
   "cell_type": "code",
   "execution_count": null,
   "metadata": {},
   "outputs": [],
   "source": []
  },
  {
   "cell_type": "markdown",
   "metadata": {},
   "source": [
    "# Step 5: Save results\n",
    "\n",
    "Save results in a .csv file asset in the Wason Studio project.\n",
    "\n",
    "From that file, you can create a Cogno Dashboard, ingest the data to a database, or perform analysis.\n",
    "\n",
    "To be able to save results in a .csv file assets in our Watson Studio project, we need a project token.\n",
    "\n",
    "Follow the steps in this topic: [Adding a project token](https://dataplatform.cloud.ibm.com/docs/content/wsj/analyze-data/token.html?audience=wdp&context=data)\n",
    "\n",
    "**The project token is added in the very first cell at the top of the notebook. Don't forget to scroll up and run that cell.**\n",
    "\n",
    "(If you forget to run the inserted cell, you'll see the error name 'project' is not defined when you try to run the next cell below.)"
   ]
  },
  {
   "cell_type": "code",
   "execution_count": null,
   "metadata": {},
   "outputs": [],
   "source": [
    "results_file_name = \"retrospective-radar.csv\"\n",
    "\n",
    "project.save_data( results_file_name, df.to_csv( index = False), overwrite = True )"
   ]
  },
  {
   "cell_type": "code",
   "execution_count": null,
   "metadata": {},
   "outputs": [],
   "source": []
  },
  {
   "cell_type": "code",
   "execution_count": null,
   "metadata": {},
   "outputs": [],
   "source": []
  }
 ],
 "metadata": {
  "kernelspec": {
   "display_name": "Python 3.9",
   "language": "python",
   "name": "python3"
  },
  "language_info": {
   "codemirror_mode": {
    "name": "ipython",
    "version": 3
   },
   "file_extension": ".py",
   "mimetype": "text/x-python",
   "name": "python",
   "nbconvert_exporter": "python",
   "pygments_lexer": "ipython3",
   "version": "3.9.7"
  }
 },
 "nbformat": 4,
 "nbformat_minor": 1
}
